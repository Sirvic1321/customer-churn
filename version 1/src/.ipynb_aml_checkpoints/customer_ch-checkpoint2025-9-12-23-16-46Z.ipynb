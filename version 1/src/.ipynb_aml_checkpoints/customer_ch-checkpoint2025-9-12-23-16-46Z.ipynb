{
  "cells": [
    {
      "cell_type": "code",
      "source": [
        "!pip install azure-ai-ml azure identity\n",
        "!pip install scikit-learn pandas numpy joblib\n",
        "!pip install azure-storage-blob"
      ],
      "outputs": [
        {
          "output_type": "stream",
          "name": "stdout",
          "text": "Requirement already satisfied: azure-ai-ml in /anaconda/envs/azureml_py38/lib/python3.10/site-packages (1.29.0)\nCollecting azure\n  Downloading azure-5.0.0.zip (4.6 kB)\n  Preparing metadata (setup.py) ... \u001b[?25l-\b \berror\n  \u001b[1;31merror\u001b[0m: \u001b[1msubprocess-exited-with-error\u001b[0m\n  \n  \u001b[31m×\u001b[0m \u001b[32mpython setup.py egg_info\u001b[0m did not run successfully.\n  \u001b[31m│\u001b[0m exit code: \u001b[1;36m1\u001b[0m\n  \u001b[31m╰─>\u001b[0m \u001b[31m[25 lines of output]\u001b[0m\n  \u001b[31m   \u001b[0m Traceback (most recent call last):\n  \u001b[31m   \u001b[0m   File \"<string>\", line 2, in <module>\n  \u001b[31m   \u001b[0m   File \"<pip-setuptools-caller>\", line 34, in <module>\n  \u001b[31m   \u001b[0m   File \"/tmp/pip-install-c5vg614q/azure_6fc8b6daa87f4babacaa218d93090f16/setup.py\", line 60, in <module>\n  \u001b[31m   \u001b[0m     raise RuntimeError(message)\n  \u001b[31m   \u001b[0m RuntimeError:\n  \u001b[31m   \u001b[0m \n  \u001b[31m   \u001b[0m Starting with v5.0.0, the 'azure' meta-package is deprecated and cannot be installed anymore.\n  \u001b[31m   \u001b[0m Please install the service specific packages prefixed by `azure` needed for your application.\n  \u001b[31m   \u001b[0m \n  \u001b[31m   \u001b[0m The complete list of available packages can be found at:\n  \u001b[31m   \u001b[0m https://aka.ms/azsdk/python/all\n  \u001b[31m   \u001b[0m \n  \u001b[31m   \u001b[0m Here's a non-exhaustive list of common packages:\n  \u001b[31m   \u001b[0m \n  \u001b[31m   \u001b[0m -  azure-mgmt-compute (https://pypi.python.org/pypi/azure-mgmt-compute) : Management of Virtual Machines, etc.\n  \u001b[31m   \u001b[0m -  azure-mgmt-storage (https://pypi.python.org/pypi/azure-mgmt-storage) : Management of storage accounts.\n  \u001b[31m   \u001b[0m -  azure-mgmt-resource (https://pypi.python.org/pypi/azure-mgmt-resource) : Generic package about Azure Resource Management (ARM)\n  \u001b[31m   \u001b[0m -  azure-keyvault-secrets (https://pypi.python.org/pypi/azure-keyvault-secrets) : Access to secrets in Key Vault\n  \u001b[31m   \u001b[0m -  azure-storage-blob (https://pypi.python.org/pypi/azure-storage-blob) : Access to blobs in storage accounts\n  \u001b[31m   \u001b[0m \n  \u001b[31m   \u001b[0m A more comprehensive discussion of the rationale for this decision can be found in the following issue:\n  \u001b[31m   \u001b[0m https://github.com/Azure/azure-sdk-for-python/issues/10646\n  \u001b[31m   \u001b[0m \n  \u001b[31m   \u001b[0m \n  \u001b[31m   \u001b[0m \u001b[31m[end of output]\u001b[0m\n  \n  \u001b[1;35mnote\u001b[0m: This error originates from a subprocess, and is likely not a problem with pip.\n\u001b[1;31merror\u001b[0m: \u001b[1mmetadata-generation-failed\u001b[0m\n\n\u001b[31m×\u001b[0m Encountered error while generating package metadata.\n\u001b[31m╰─>\u001b[0m See above for output.\n\n\u001b[1;35mnote\u001b[0m: This is an issue with the package mentioned above, not pip.\n\u001b[1;36mhint\u001b[0m: See above for details.\n\u001b[?25hRequirement already satisfied: scikit-learn in /anaconda/envs/azureml_py38/lib/python3.10/site-packages (1.5.1)\nRequirement already satisfied: pandas in /anaconda/envs/azureml_py38/lib/python3.10/site-packages (1.5.3)\nRequirement already satisfied: numpy in /anaconda/envs/azureml_py38/lib/python3.10/site-packages (1.23.5)\nRequirement already satisfied: joblib in /anaconda/envs/azureml_py38/lib/python3.10/site-packages (1.2.0)\nRequirement already satisfied: scipy>=1.6.0 in /anaconda/envs/azureml_py38/lib/python3.10/site-packages (from scikit-learn) (1.11.0)\nRequirement already satisfied: threadpoolctl>=3.1.0 in /anaconda/envs/azureml_py38/lib/python3.10/site-packages (from scikit-learn) (3.6.0)\nRequirement already satisfied: python-dateutil>=2.8.1 in /anaconda/envs/azureml_py38/lib/python3.10/site-packages (from pandas) (2.9.0.post0)\nRequirement already satisfied: pytz>=2020.1 in /anaconda/envs/azureml_py38/lib/python3.10/site-packages (from pandas) (2022.5)\nRequirement already satisfied: six>=1.5 in /anaconda/envs/azureml_py38/lib/python3.10/site-packages (from python-dateutil>=2.8.1->pandas) (1.17.0)\nRequirement already satisfied: azure-storage-blob in /anaconda/envs/azureml_py38/lib/python3.10/site-packages (12.26.0)\nRequirement already satisfied: typing-extensions>=4.6.0 in /anaconda/envs/azureml_py38/lib/python3.10/site-packages (from azure-storage-blob) (4.14.1)\nRequirement already satisfied: azure-core>=1.30.0 in /anaconda/envs/azureml_py38/lib/python3.10/site-packages (from azure-storage-blob) (1.33.0)\nRequirement already satisfied: cryptography>=2.1.4 in /anaconda/envs/azureml_py38/lib/python3.10/site-packages (from azure-storage-blob) (38.0.4)\nRequirement already satisfied: isodate>=0.6.1 in /anaconda/envs/azureml_py38/lib/python3.10/site-packages (from azure-storage-blob) (0.7.2)\nRequirement already satisfied: requests>=2.21.0 in /anaconda/envs/azureml_py38/lib/python3.10/site-packages (from azure-core>=1.30.0->azure-storage-blob) (2.32.4)\nRequirement already satisfied: six>=1.11.0 in /anaconda/envs/azureml_py38/lib/python3.10/site-packages (from azure-core>=1.30.0->azure-storage-blob) (1.17.0)\nRequirement already satisfied: cffi>=1.12 in /anaconda/envs/azureml_py38/lib/python3.10/site-packages (from cryptography>=2.1.4->azure-storage-blob) (1.17.1)\nRequirement already satisfied: pycparser in /anaconda/envs/azureml_py38/lib/python3.10/site-packages (from cffi>=1.12->cryptography>=2.1.4->azure-storage-blob) (2.22)\nRequirement already satisfied: urllib3<3,>=1.21.1 in /anaconda/envs/azureml_py38/lib/python3.10/site-packages (from requests>=2.21.0->azure-core>=1.30.0->azure-storage-blob) (2.5.0)\nRequirement already satisfied: charset_normalizer<4,>=2 in /anaconda/envs/azureml_py38/lib/python3.10/site-packages (from requests>=2.21.0->azure-core>=1.30.0->azure-storage-blob) (3.4.2)\nRequirement already satisfied: idna<4,>=2.5 in /anaconda/envs/azureml_py38/lib/python3.10/site-packages (from requests>=2.21.0->azure-core>=1.30.0->azure-storage-blob) (3.10)\nRequirement already satisfied: certifi>=2017.4.17 in /anaconda/envs/azureml_py38/lib/python3.10/site-packages (from requests>=2.21.0->azure-core>=1.30.0->azure-storage-blob) (2025.7.9)\n"
        }
      ],
      "execution_count": 20,
      "metadata": {}
    },
    {
      "cell_type": "code",
      "source": [
        "import pandas as pd\n",
        "from sklearn.model_selection import train_test_split\n",
        "from sklearn.preprocessing import LabelEncoder\n",
        "from sklearn.ensemble import RandomForestClassifier\n",
        "import joblib\n",
        "import os\n",
        "\n",
        "# Load dataset\n",
        "data = pd.read_csv(\"../data/WA_Fn-UseC_-Telco-Customer-Churn.csv\")\n",
        "\n",
        "# Drop customerID\n",
        "data = data.drop('customerID', axis=1)\n",
        "\n",
        "# Convert TotalCharges to numeric\n",
        "data['TotalCharges'] = pd.to_numeric(data['TotalCharges'], errors='coerce')\n",
        "data['TotalCharges'] = data['TotalCharges'].fillna(data['TotalCharges'].median())\n",
        "\n",
        "# Encode categorical variables\n",
        "for column in data.select_dtypes(include='object').columns:\n",
        "    data[column] = LabelEncoder().fit_transform(data[column])\n",
        "\n",
        "# Split data\n",
        "X = data.drop('Churn', axis=1)\n",
        "y = data['Churn']\n",
        "\n",
        "X_train, X_test, y_train, y_test = train_test_split(X, y, test_size=0.2, random_state=42)\n",
        "\n",
        "# Train model\n",
        "model = RandomForestClassifier(n_estimators=100, random_state=42)\n",
        "model.fit(X_train, y_train)\n",
        "\n",
        "# Save model\n",
        "os.makedirs(\"../model\", exist_ok=True)\n",
        "joblib.dump(model, \"../model/churn_model.pkl\")\n",
        "\n",
        "print(\"✅ Model trained and saved successfully!\")\n"
      ],
      "outputs": [
        {
          "output_type": "stream",
          "name": "stdout",
          "text": "✅ Model trained and saved successfully!\n"
        }
      ],
      "execution_count": 21,
      "metadata": {
        "gather": {
          "logged": 1760306419864
        }
      }
    },
    {
      "cell_type": "code",
      "source": [
        "!pip install azure-ai-ml\n",
        "!pip install azure-identity\n"
      ],
      "outputs": [
        {
          "output_type": "stream",
          "name": "stdout",
          "text": "Requirement already satisfied: azure-ai-ml in /anaconda/envs/azureml_py38/lib/python3.10/site-packages (1.29.0)\nRequirement already satisfied: jsonschema<5.0.0,>=4.0.0 in /anaconda/envs/azureml_py38/lib/python3.10/site-packages (from azure-ai-ml) (4.24.0)\nRequirement already satisfied: azure-storage-blob>=12.10.0 in /anaconda/envs/azureml_py38/lib/python3.10/site-packages (from azure-ai-ml) (12.26.0)\nRequirement already satisfied: marshmallow<4.0.0,>=3.5 in /anaconda/envs/azureml_py38/lib/python3.10/site-packages (from azure-ai-ml) (3.26.1)\nRequirement already satisfied: tqdm<5.0.0 in /anaconda/envs/azureml_py38/lib/python3.10/site-packages (from azure-ai-ml) (4.67.1)\nRequirement already satisfied: colorama<1.0.0 in /anaconda/envs/azureml_py38/lib/python3.10/site-packages (from azure-ai-ml) (0.4.6)\nRequirement already satisfied: strictyaml<2.0.0 in /anaconda/envs/azureml_py38/lib/python3.10/site-packages (from azure-ai-ml) (1.7.3)\nRequirement already satisfied: pydash<9.0.0,>=6.0.0 in /anaconda/envs/azureml_py38/lib/python3.10/site-packages (from azure-ai-ml) (8.0.5)\nRequirement already satisfied: azure-core>=1.23.0 in /anaconda/envs/azureml_py38/lib/python3.10/site-packages (from azure-ai-ml) (1.33.0)\nRequirement already satisfied: azure-storage-file-datalake>=12.2.0 in /anaconda/envs/azureml_py38/lib/python3.10/site-packages (from azure-ai-ml) (12.21.0)\nRequirement already satisfied: azure-monitor-opentelemetry in /anaconda/envs/azureml_py38/lib/python3.10/site-packages (from azure-ai-ml) (1.8.1)\nRequirement already satisfied: isodate<1.0.0 in /anaconda/envs/azureml_py38/lib/python3.10/site-packages (from azure-ai-ml) (0.7.2)\nRequirement already satisfied: azure-mgmt-core>=1.3.0 in /anaconda/envs/azureml_py38/lib/python3.10/site-packages (from azure-ai-ml) (1.5.0)\nRequirement already satisfied: azure-common>=1.1 in /anaconda/envs/azureml_py38/lib/python3.10/site-packages (from azure-ai-ml) (1.1.28)\nRequirement already satisfied: pyyaml<7.0.0,>=5.1.0 in /anaconda/envs/azureml_py38/lib/python3.10/site-packages (from azure-ai-ml) (6.0.2)\nRequirement already satisfied: typing-extensions<5.0.0 in /anaconda/envs/azureml_py38/lib/python3.10/site-packages (from azure-ai-ml) (4.14.1)\nRequirement already satisfied: azure-storage-file-share in /anaconda/envs/azureml_py38/lib/python3.10/site-packages (from azure-ai-ml) (12.22.0)\nRequirement already satisfied: pyjwt<3.0.0 in /anaconda/envs/azureml_py38/lib/python3.10/site-packages (from azure-ai-ml) (2.4.0)\nRequirement already satisfied: six>=1.11.0 in /anaconda/envs/azureml_py38/lib/python3.10/site-packages (from azure-core>=1.23.0->azure-ai-ml) (1.17.0)\nRequirement already satisfied: requests>=2.21.0 in /anaconda/envs/azureml_py38/lib/python3.10/site-packages (from azure-core>=1.23.0->azure-ai-ml) (2.32.4)\nRequirement already satisfied: cryptography>=2.1.4 in /anaconda/envs/azureml_py38/lib/python3.10/site-packages (from azure-storage-blob>=12.10.0->azure-ai-ml) (38.0.4)\nRequirement already satisfied: attrs>=22.2.0 in /anaconda/envs/azureml_py38/lib/python3.10/site-packages (from jsonschema<5.0.0,>=4.0.0->azure-ai-ml) (25.3.0)\nRequirement already satisfied: rpds-py>=0.7.1 in /anaconda/envs/azureml_py38/lib/python3.10/site-packages (from jsonschema<5.0.0,>=4.0.0->azure-ai-ml) (0.24.0)\nRequirement already satisfied: jsonschema-specifications>=2023.03.6 in /anaconda/envs/azureml_py38/lib/python3.10/site-packages (from jsonschema<5.0.0,>=4.0.0->azure-ai-ml) (2025.4.1)\nRequirement already satisfied: referencing>=0.28.4 in /anaconda/envs/azureml_py38/lib/python3.10/site-packages (from jsonschema<5.0.0,>=4.0.0->azure-ai-ml) (0.36.2)\nRequirement already satisfied: packaging>=17.0 in /anaconda/envs/azureml_py38/lib/python3.10/site-packages (from marshmallow<4.0.0,>=3.5->azure-ai-ml) (25.0)\nRequirement already satisfied: python-dateutil>=2.6.0 in /anaconda/envs/azureml_py38/lib/python3.10/site-packages (from strictyaml<2.0.0->azure-ai-ml) (2.9.0.post0)\nRequirement already satisfied: opentelemetry-sdk~=1.36 in /anaconda/envs/azureml_py38/lib/python3.10/site-packages (from azure-monitor-opentelemetry->azure-ai-ml) (1.37.0)\nRequirement already satisfied: azure-monitor-opentelemetry-exporter~=1.0.0b41 in /anaconda/envs/azureml_py38/lib/python3.10/site-packages (from azure-monitor-opentelemetry->azure-ai-ml) (1.0.0b43)\nRequirement already satisfied: opentelemetry-instrumentation-urllib3~=0.57b0 in /anaconda/envs/azureml_py38/lib/python3.10/site-packages (from azure-monitor-opentelemetry->azure-ai-ml) (0.58b0)\nRequirement already satisfied: opentelemetry-instrumentation-requests~=0.57b0 in /anaconda/envs/azureml_py38/lib/python3.10/site-packages (from azure-monitor-opentelemetry->azure-ai-ml) (0.58b0)\nRequirement already satisfied: opentelemetry-instrumentation-django~=0.57b0 in /anaconda/envs/azureml_py38/lib/python3.10/site-packages (from azure-monitor-opentelemetry->azure-ai-ml) (0.58b0)\nRequirement already satisfied: opentelemetry-instrumentation-fastapi~=0.57b0 in /anaconda/envs/azureml_py38/lib/python3.10/site-packages (from azure-monitor-opentelemetry->azure-ai-ml) (0.58b0)\nRequirement already satisfied: opentelemetry-instrumentation-flask~=0.57b0 in /anaconda/envs/azureml_py38/lib/python3.10/site-packages (from azure-monitor-opentelemetry->azure-ai-ml) (0.58b0)\nRequirement already satisfied: opentelemetry-instrumentation-psycopg2~=0.57b0 in /anaconda/envs/azureml_py38/lib/python3.10/site-packages (from azure-monitor-opentelemetry->azure-ai-ml) (0.58b0)\nRequirement already satisfied: opentelemetry-resource-detector-azure~=0.1.5 in /anaconda/envs/azureml_py38/lib/python3.10/site-packages (from azure-monitor-opentelemetry->azure-ai-ml) (0.1.5)\nRequirement already satisfied: azure-core-tracing-opentelemetry~=1.0.0b11 in /anaconda/envs/azureml_py38/lib/python3.10/site-packages (from azure-monitor-opentelemetry->azure-ai-ml) (1.0.0b12)\nRequirement already satisfied: opentelemetry-instrumentation-urllib~=0.57b0 in /anaconda/envs/azureml_py38/lib/python3.10/site-packages (from azure-monitor-opentelemetry->azure-ai-ml) (0.58b0)\nRequirement already satisfied: opentelemetry-api>=1.12.0 in /anaconda/envs/azureml_py38/lib/python3.10/site-packages (from azure-core-tracing-opentelemetry~=1.0.0b11->azure-monitor-opentelemetry->azure-ai-ml) (1.37.0)\nRequirement already satisfied: fixedint==0.1.6 in /anaconda/envs/azureml_py38/lib/python3.10/site-packages (from azure-monitor-opentelemetry-exporter~=1.0.0b41->azure-monitor-opentelemetry->azure-ai-ml) (0.1.6)\nRequirement already satisfied: azure-identity~=1.17 in /anaconda/envs/azureml_py38/lib/python3.10/site-packages (from azure-monitor-opentelemetry-exporter~=1.0.0b41->azure-monitor-opentelemetry->azure-ai-ml) (1.21.0)\nRequirement already satisfied: psutil<8,>=5.9 in /anaconda/envs/azureml_py38/lib/python3.10/site-packages (from azure-monitor-opentelemetry-exporter~=1.0.0b41->azure-monitor-opentelemetry->azure-ai-ml) (7.1.0)\nRequirement already satisfied: msrest>=0.6.10 in /anaconda/envs/azureml_py38/lib/python3.10/site-packages (from azure-monitor-opentelemetry-exporter~=1.0.0b41->azure-monitor-opentelemetry->azure-ai-ml) (0.7.1)\nRequirement already satisfied: cffi>=1.12 in /anaconda/envs/azureml_py38/lib/python3.10/site-packages (from cryptography>=2.1.4->azure-storage-blob>=12.10.0->azure-ai-ml) (1.17.1)\nRequirement already satisfied: opentelemetry-util-http==0.58b0 in /anaconda/envs/azureml_py38/lib/python3.10/site-packages (from opentelemetry-instrumentation-django~=0.57b0->azure-monitor-opentelemetry->azure-ai-ml) (0.58b0)\nRequirement already satisfied: opentelemetry-instrumentation==0.58b0 in /anaconda/envs/azureml_py38/lib/python3.10/site-packages (from opentelemetry-instrumentation-django~=0.57b0->azure-monitor-opentelemetry->azure-ai-ml) (0.58b0)\nRequirement already satisfied: opentelemetry-semantic-conventions==0.58b0 in /anaconda/envs/azureml_py38/lib/python3.10/site-packages (from opentelemetry-instrumentation-django~=0.57b0->azure-monitor-opentelemetry->azure-ai-ml) (0.58b0)\nRequirement already satisfied: opentelemetry-instrumentation-wsgi==0.58b0 in /anaconda/envs/azureml_py38/lib/python3.10/site-packages (from opentelemetry-instrumentation-django~=0.57b0->azure-monitor-opentelemetry->azure-ai-ml) (0.58b0)\nRequirement already satisfied: wrapt<2.0.0,>=1.0.0 in /anaconda/envs/azureml_py38/lib/python3.10/site-packages (from opentelemetry-instrumentation==0.58b0->opentelemetry-instrumentation-django~=0.57b0->azure-monitor-opentelemetry->azure-ai-ml) (1.14.1)\nRequirement already satisfied: importlib-metadata<8.8.0,>=6.0 in /anaconda/envs/azureml_py38/lib/python3.10/site-packages (from opentelemetry-api>=1.12.0->azure-core-tracing-opentelemetry~=1.0.0b11->azure-monitor-opentelemetry->azure-ai-ml) (8.2.0)\nRequirement already satisfied: opentelemetry-instrumentation-asgi==0.58b0 in /anaconda/envs/azureml_py38/lib/python3.10/site-packages (from opentelemetry-instrumentation-fastapi~=0.57b0->azure-monitor-opentelemetry->azure-ai-ml) (0.58b0)\nRequirement already satisfied: asgiref~=3.0 in /anaconda/envs/azureml_py38/lib/python3.10/site-packages (from opentelemetry-instrumentation-asgi==0.58b0->opentelemetry-instrumentation-fastapi~=0.57b0->azure-monitor-opentelemetry->azure-ai-ml) (3.10.0)\nRequirement already satisfied: opentelemetry-instrumentation-dbapi==0.58b0 in /anaconda/envs/azureml_py38/lib/python3.10/site-packages (from opentelemetry-instrumentation-psycopg2~=0.57b0->azure-monitor-opentelemetry->azure-ai-ml) (0.58b0)\nRequirement already satisfied: urllib3<3,>=1.21.1 in /anaconda/envs/azureml_py38/lib/python3.10/site-packages (from requests>=2.21.0->azure-core>=1.23.0->azure-ai-ml) (2.5.0)\nRequirement already satisfied: charset_normalizer<4,>=2 in /anaconda/envs/azureml_py38/lib/python3.10/site-packages (from requests>=2.21.0->azure-core>=1.23.0->azure-ai-ml) (3.4.2)\nRequirement already satisfied: idna<4,>=2.5 in /anaconda/envs/azureml_py38/lib/python3.10/site-packages (from requests>=2.21.0->azure-core>=1.23.0->azure-ai-ml) (3.10)\nRequirement already satisfied: certifi>=2017.4.17 in /anaconda/envs/azureml_py38/lib/python3.10/site-packages (from requests>=2.21.0->azure-core>=1.23.0->azure-ai-ml) (2025.7.9)\nRequirement already satisfied: msal>=1.30.0 in /anaconda/envs/azureml_py38/lib/python3.10/site-packages (from azure-identity~=1.17->azure-monitor-opentelemetry-exporter~=1.0.0b41->azure-monitor-opentelemetry->azure-ai-ml) (1.33.0b1)\nRequirement already satisfied: msal-extensions>=1.2.0 in /anaconda/envs/azureml_py38/lib/python3.10/site-packages (from azure-identity~=1.17->azure-monitor-opentelemetry-exporter~=1.0.0b41->azure-monitor-opentelemetry->azure-ai-ml) (1.2.0)\nRequirement already satisfied: pycparser in /anaconda/envs/azureml_py38/lib/python3.10/site-packages (from cffi>=1.12->cryptography>=2.1.4->azure-storage-blob>=12.10.0->azure-ai-ml) (2.22)\nRequirement already satisfied: requests-oauthlib>=0.5.0 in /anaconda/envs/azureml_py38/lib/python3.10/site-packages (from msrest>=0.6.10->azure-monitor-opentelemetry-exporter~=1.0.0b41->azure-monitor-opentelemetry->azure-ai-ml) (2.0.0)\nRequirement already satisfied: zipp>=0.5 in /anaconda/envs/azureml_py38/lib/python3.10/site-packages (from importlib-metadata<8.8.0,>=6.0->opentelemetry-api>=1.12.0->azure-core-tracing-opentelemetry~=1.0.0b11->azure-monitor-opentelemetry->azure-ai-ml) (3.19.2)\nRequirement already satisfied: portalocker<3,>=1.4 in /anaconda/envs/azureml_py38/lib/python3.10/site-packages (from msal-extensions>=1.2.0->azure-identity~=1.17->azure-monitor-opentelemetry-exporter~=1.0.0b41->azure-monitor-opentelemetry->azure-ai-ml) (2.10.1)\nRequirement already satisfied: oauthlib>=3.0.0 in /anaconda/envs/azureml_py38/lib/python3.10/site-packages (from requests-oauthlib>=0.5.0->msrest>=0.6.10->azure-monitor-opentelemetry-exporter~=1.0.0b41->azure-monitor-opentelemetry->azure-ai-ml) (3.2.2)\nRequirement already satisfied: azure-identity in /anaconda/envs/azureml_py38/lib/python3.10/site-packages (1.21.0)\nRequirement already satisfied: msal>=1.30.0 in /anaconda/envs/azureml_py38/lib/python3.10/site-packages (from azure-identity) (1.33.0b1)\nRequirement already satisfied: msal-extensions>=1.2.0 in /anaconda/envs/azureml_py38/lib/python3.10/site-packages (from azure-identity) (1.2.0)\nRequirement already satisfied: cryptography>=2.5 in /anaconda/envs/azureml_py38/lib/python3.10/site-packages (from azure-identity) (38.0.4)\nRequirement already satisfied: typing-extensions>=4.0.0 in /anaconda/envs/azureml_py38/lib/python3.10/site-packages (from azure-identity) (4.14.1)\nRequirement already satisfied: azure-core>=1.31.0 in /anaconda/envs/azureml_py38/lib/python3.10/site-packages (from azure-identity) (1.33.0)\nRequirement already satisfied: six>=1.11.0 in /anaconda/envs/azureml_py38/lib/python3.10/site-packages (from azure-core>=1.31.0->azure-identity) (1.17.0)\nRequirement already satisfied: requests>=2.21.0 in /anaconda/envs/azureml_py38/lib/python3.10/site-packages (from azure-core>=1.31.0->azure-identity) (2.32.4)\nRequirement already satisfied: cffi>=1.12 in /anaconda/envs/azureml_py38/lib/python3.10/site-packages (from cryptography>=2.5->azure-identity) (1.17.1)\nRequirement already satisfied: PyJWT[crypto]<3,>=1.0.0 in /anaconda/envs/azureml_py38/lib/python3.10/site-packages (from msal>=1.30.0->azure-identity) (2.4.0)\nRequirement already satisfied: portalocker<3,>=1.4 in /anaconda/envs/azureml_py38/lib/python3.10/site-packages (from msal-extensions>=1.2.0->azure-identity) (2.10.1)\nRequirement already satisfied: pycparser in /anaconda/envs/azureml_py38/lib/python3.10/site-packages (from cffi>=1.12->cryptography>=2.5->azure-identity) (2.22)\nRequirement already satisfied: certifi>=2017.4.17 in /anaconda/envs/azureml_py38/lib/python3.10/site-packages (from requests>=2.21.0->azure-core>=1.31.0->azure-identity) (2025.7.9)\nRequirement already satisfied: charset_normalizer<4,>=2 in /anaconda/envs/azureml_py38/lib/python3.10/site-packages (from requests>=2.21.0->azure-core>=1.31.0->azure-identity) (3.4.2)\nRequirement already satisfied: idna<4,>=2.5 in /anaconda/envs/azureml_py38/lib/python3.10/site-packages (from requests>=2.21.0->azure-core>=1.31.0->azure-identity) (3.10)\nRequirement already satisfied: urllib3<3,>=1.21.1 in /anaconda/envs/azureml_py38/lib/python3.10/site-packages (from requests>=2.21.0->azure-core>=1.31.0->azure-identity) (2.5.0)\n"
        }
      ],
      "execution_count": 6,
      "metadata": {
        "gather": {
          "logged": 1760102823178
        }
      }
    },
    {
      "cell_type": "code",
      "source": [
        "from azure.ai.ml import MLClient\n",
        "from azure.identity import DefaultAzureCredential\n",
        "from azure.ai.ml.entities import Model\n",
        "\n",
        "ml_client = MLClient(DefaultAzureCredential(), \"e835122e-790c-40f9-99c6-98bfd4cdf02d\", \"Portfolio\", \"AzurePort\")\n",
        "\n",
        "model = Model(path=\"../model/churn_model.pkl\", name=\"churn-model\", description=\"Customer churn prediction model\")\n",
        "ml_client.models.create_or_update(model)"
      ],
      "outputs": [
        {
          "output_type": "stream",
          "name": "stderr",
          "text": "Overriding of current TracerProvider is not allowed\nOverriding of current LoggerProvider is not allowed\nOverriding of current MeterProvider is not allowed\nAttempting to instrument while already instrumented\nAttempting to instrument while already instrumented\nAttempting to instrument while already instrumented\nAttempting to instrument while already instrumented\nAttempting to instrument while already instrumented\nAttempting to instrument while already instrumented\n"
        },
        {
          "output_type": "execute_result",
          "execution_count": 30,
          "data": {
            "text/plain": "Model({'job_name': None, 'intellectual_property': None, 'system_metadata': None, 'is_anonymous': False, 'auto_increment_version': False, 'auto_delete_setting': None, 'name': 'churn-model', 'description': 'Customer churn prediction model', 'tags': {}, 'properties': {}, 'print_as_yaml': False, 'id': '/subscriptions/e835122e-790c-40f9-99c6-98bfd4cdf02d/resourceGroups/Portfolio/providers/Microsoft.MachineLearningServices/workspaces/AzurePort/models/churn-model/versions/4', 'Resource__source_path': '', 'base_path': '/mnt/batch/tasks/shared/LS_root/mounts/clusters/east2/code/Users/support/Customer_churn/src', 'creation_context': <azure.ai.ml.entities._system_data.SystemData object at 0x78fffc9dbd90>, 'serialize': <msrest.serialization.Serializer object at 0x78fffc9da8c0>, 'version': '4', 'latest_version': None, 'path': 'azureml://subscriptions/e835122e-790c-40f9-99c6-98bfd4cdf02d/resourceGroups/Portfolio/workspaces/AzurePort/datastores/workspaceblobstore/paths/LocalUpload/c805fdef3c1031a0306ab8a7b21b98b30c0a56951d039ba1b2f32081405bd601/churn_model.pkl', 'datastore': None, 'utc_time_created': None, 'flavors': None, 'arm_type': 'model_version', 'type': 'custom_model', 'stage': 'Development'})"
          },
          "metadata": {}
        }
      ],
      "execution_count": 30,
      "metadata": {
        "gather": {
          "logged": 1760308626916
        }
      }
    },
    {
      "cell_type": "code",
      "source": [
        "from azure.ai.ml.entities import (\n",
        "    ManagedOnlineEndpoint,\n",
        "    ManagedOnlineDeployment,\n",
        "    Environment,\n",
        "    CodeConfiguration\n",
        ")\n",
        "import datetime\n",
        "\n",
        "endpoint_name = f\"churn-endpoint-{datetime.datetime.now().strftime('%m%d%H%M')}\"\n",
        "\n",
        "# Create endpoint\n",
        "endpoint = ManagedOnlineEndpoint(\n",
        "    name=endpoint_name,\n",
        "    description=\"Predicts customer churn probability\",\n",
        "    auth_mode=\"key\"\n",
        ")\n",
        "ml_client.begin_create_or_update(endpoint).result()\n",
        "\n",
        "# Create environment\n",
        "env = Environment(\n",
        "    name=\"churn-env\",\n",
        "    conda_file=\"../environment/conda.yaml\",\n",
        "    image=\"mcr.microsoft.com/azureml/openmpi4.1.0-ubuntu20.04\"\n",
        ")\n",
        "\n"
      ],
      "outputs": [],
      "execution_count": 27,
      "metadata": {
        "gather": {
          "logged": 1760308291645
        }
      }
    },
    {
      "cell_type": "code",
      "source": [
        "# Deployment\n",
        "deployment = ManagedOnlineDeployment(\n",
        "    name=\"blue\",\n",
        "    endpoint_name=endpoint_name,\n",
        "    model=model,\n",
        "    environment=env,\n",
        "    code_configuration=CodeConfiguration(code=\".\", scoring_script=\"score.py\"),\n",
        "    instance_type=\"Standard_DS1_v2\",\n",
        "    instance_count=1\n",
        ")\n",
        "\n",
        "ml_client.begin_create_or_update(deployment).result()\n",
        "\n",
        "# Set traffic\n",
        "endpoint.traffic = {\"blue\": 100}\n",
        "ml_client.begin_create_or_update(endpoint).result()\n",
        "\n"
      ],
      "outputs": [
        {
          "output_type": "stream",
          "name": "stderr",
          "text": "Instance type Standard_DS1_v2 may be too small for compute resources. Minimum recommended compute SKU is Standard_DS3_v2 for general purpose endpoints. Learn more about SKUs here: https://learn.microsoft.com/azure/machine-learning/referencemanaged-online-endpoints-vm-sku-list\nCheck: endpoint churn-endpoint-10122230 exists\nUploading src (0.06 MBs): 100%|██████████| 56266/56266 [00:00<00:00, 2003163.59it/s]\n\n\n"
        },
        {
          "output_type": "stream",
          "name": "stdout",
          "text": "..........................................................................................."
        },
        {
          "output_type": "execute_result",
          "execution_count": 33,
          "data": {
            "text/plain": "ManagedOnlineEndpoint({'public_network_access': 'Enabled', 'provisioning_state': 'Succeeded', 'scoring_uri': 'https://churn-endpoint-10122230.eastus2.inference.ml.azure.com/score', 'openapi_uri': 'https://churn-endpoint-10122230.eastus2.inference.ml.azure.com/swagger.json', 'name': 'churn-endpoint-10122230', 'description': 'Predicts customer churn probability', 'tags': {}, 'properties': {'createdBy': 'Victor Isuo', 'createdAt': '2025-10-12T22:30:29.623401+0000', 'lastModifiedAt': '2025-10-12T23:11:00.746937+0000', 'azureml.onlineendpointid': '/subscriptions/e835122e-790c-40f9-99c6-98bfd4cdf02d/resourcegroups/portfolio/providers/microsoft.machinelearningservices/workspaces/azureport/onlineendpoints/churn-endpoint-10122230', 'AzureAsyncOperationUri': 'https://management.azure.com/subscriptions/e835122e-790c-40f9-99c6-98bfd4cdf02d/providers/Microsoft.MachineLearningServices/locations/eastus2/mfeOperationsStatus/oeidp:4cb43ab5-aae4-49ff-b43e-023139cd92a0:2bb3b1f7-0b1d-4f36-8c98-a95a4da1dd4d?api-version=2022-02-01-preview'}, 'print_as_yaml': False, 'id': '/subscriptions/e835122e-790c-40f9-99c6-98bfd4cdf02d/resourceGroups/Portfolio/providers/Microsoft.MachineLearningServices/workspaces/AzurePort/onlineEndpoints/churn-endpoint-10122230', 'Resource__source_path': '', 'base_path': '/mnt/batch/tasks/shared/LS_root/mounts/clusters/east2/code/Users/support/Customer_churn/src', 'creation_context': None, 'serialize': <msrest.serialization.Serializer object at 0x78ffe378aa10>, 'auth_mode': 'key', 'location': 'eastus2', 'identity': <azure.ai.ml.entities._credentials.IdentityConfiguration object at 0x78ffe37894b0>, 'traffic': {'blue': 100}, 'mirror_traffic': {}, 'kind': 'Managed'})"
          },
          "metadata": {}
        }
      ],
      "execution_count": 33,
      "metadata": {
        "gather": {
          "logged": 1760310753264
        }
      }
    },
    {
      "cell_type": "code",
      "source": [
        "import requests, json\n",
        "\n",
        "endpoint = ml_client.online_endpoints.get(name=endpoint_name)\n",
        "scoring_uri = endpoint.scoring_uri\n",
        "keys = ml_client.online_endpoints.get_keys(name=endpoint_name)\n",
        "primary_key = keys.primary_key\n",
        "\n",
        "sample_input = {\"data\": [[0, 0, 1, 0, 12, 1, 0, 2, 1, 1, 0, 1, 0, 0, 1, 1, 2, 75.5, 1200.25]]}\n",
        "headers = {\"Content-Type\": \"application/json\", \"Authorization\": f\"Bearer {primary_key}\"}\n",
        "\n",
        "response = requests.post(scoring_uri, headers=headers, data=json.dumps(sample_input))\n",
        "print(response.status_code)\n",
        "print(response.json())"
      ],
      "outputs": [
        {
          "output_type": "stream",
          "name": "stdout",
          "text": "200\n{'error': 'The truth value of an array with more than one element is ambiguous. Use a.any() or a.all()'}\n"
        }
      ],
      "execution_count": 34,
      "metadata": {
        "gather": {
          "logged": 1760310758014
        }
      }
    },
    {
      "cell_type": "code",
      "source": [
        "print(X.columns.to_list())\n",
        "print(len(X.columns))"
      ],
      "outputs": [
        {
          "output_type": "stream",
          "name": "stdout",
          "text": "['gender', 'SeniorCitizen', 'Partner', 'Dependents', 'tenure', 'PhoneService', 'MultipleLines', 'InternetService', 'OnlineSecurity', 'OnlineBackup', 'DeviceProtection', 'TechSupport', 'StreamingTV', 'StreamingMovies', 'Contract', 'PaperlessBilling', 'PaymentMethod', 'MonthlyCharges', 'TotalCharges']\n19\n"
        }
      ],
      "execution_count": 22,
      "metadata": {
        "gather": {
          "logged": 1760306431078
        }
      }
    },
    {
      "cell_type": "code",
      "source": [],
      "outputs": [],
      "execution_count": null,
      "metadata": {}
    }
  ],
  "metadata": {
    "kernelspec": {
      "name": "python38-azureml",
      "language": "python",
      "display_name": "Python 3.10 - AzureML"
    },
    "language_info": {
      "name": "python",
      "version": "3.10.11",
      "mimetype": "text/x-python",
      "codemirror_mode": {
        "name": "ipython",
        "version": 3
      },
      "pygments_lexer": "ipython3",
      "nbconvert_exporter": "python",
      "file_extension": ".py"
    },
    "microsoft": {
      "ms_spell_check": {
        "ms_spell_check_language": "en"
      },
      "host": {
        "AzureML": {
          "notebookHasBeenCompleted": true
        }
      }
    },
    "kernel_info": {
      "name": "python38-azureml"
    },
    "nteract": {
      "version": "nteract-front-end@1.0.0"
    }
  },
  "nbformat": 4,
  "nbformat_minor": 2
}